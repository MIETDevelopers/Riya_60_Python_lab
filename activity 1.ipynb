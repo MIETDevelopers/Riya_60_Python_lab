{
 "cells": [
  {
   "cell_type": "code",
   "execution_count": 1,
   "id": "6754d805",
   "metadata": {},
   "outputs": [
    {
     "name": "stdout",
     "output_type": "stream",
     "text": [
      "4\n"
     ]
    }
   ],
   "source": [
    "# predefined function in python\n",
    "name = \"Riya\"\n",
    "print(len(name))"
   ]
  },
  {
   "cell_type": "code",
   "execution_count": 2,
   "id": "ec3f45b2",
   "metadata": {},
   "outputs": [
    {
     "name": "stdout",
     "output_type": "stream",
     "text": [
      "273\n"
     ]
    }
   ],
   "source": [
    "# predefined function in python\n",
    "number = 273.33\n",
    "print(round(number))"
   ]
  },
  {
   "cell_type": "code",
   "execution_count": 3,
   "id": "1ae60a74",
   "metadata": {},
   "outputs": [
    {
     "name": "stdout",
     "output_type": "stream",
     "text": [
      "<class 'int'>\n"
     ]
    }
   ],
   "source": [
    "# predefined function in python\n",
    "integer = 321\n",
    "print(type(integer))"
   ]
  },
  {
   "cell_type": "code",
   "execution_count": 4,
   "id": "5a09a815",
   "metadata": {},
   "outputs": [
    {
     "name": "stdout",
     "output_type": "stream",
     "text": [
      "12.33\n"
     ]
    }
   ],
   "source": [
    "# predefined function in python\n",
    "number_2 = -12.33\n",
    "print(abs(number_2))"
   ]
  },
  {
   "cell_type": "code",
   "execution_count": 5,
   "id": "0e89bcaf",
   "metadata": {},
   "outputs": [
    {
     "name": "stdout",
     "output_type": "stream",
     "text": [
      "1\n"
     ]
    }
   ],
   "source": [
    "# predefined function in python\n",
    "minimum = [5,4,3,2,1]\n",
    "print(min(minimum))\n"
   ]
  },
  {
   "cell_type": "code",
   "execution_count": 6,
   "id": "7d52cdad",
   "metadata": {},
   "outputs": [
    {
     "name": "stdout",
     "output_type": "stream",
     "text": [
      "True\n"
     ]
    }
   ],
   "source": [
    "# predefined function in python\n",
    "name2 = \"Python\"\n",
    "print(name2.isalnum())"
   ]
  },
  {
   "cell_type": "code",
   "execution_count": 7,
   "id": "b495f381",
   "metadata": {},
   "outputs": [
    {
     "name": "stdout",
     "output_type": "stream",
     "text": [
      "5  is a type <class 'int'>\n"
     ]
    }
   ],
   "source": [
    "# predefined function in python\n",
    "a = 5\n",
    "print(a,\" is a type\" , type(a))"
   ]
  },
  {
   "cell_type": "code",
   "execution_count": 8,
   "id": "831ba153",
   "metadata": {},
   "outputs": [
    {
     "name": "stdout",
     "output_type": "stream",
     "text": [
      "2.0  is a type <class 'float'>\n"
     ]
    }
   ],
   "source": [
    "# predefined function in python\n",
    "a = 2.0\n",
    "print(a,\" is a type\" , type(a))"
   ]
  },
  {
   "cell_type": "code",
   "execution_count": 9,
   "id": "0943379c",
   "metadata": {},
   "outputs": [
    {
     "name": "stdout",
     "output_type": "stream",
     "text": [
      "(1+2j)  is a type <class 'complex'>\n"
     ]
    }
   ],
   "source": [
    "# predefined function in python\n",
    "a = 1 + 2j\n",
    "print(a,\" is a type\" , type(a))"
   ]
  },
  {
   "cell_type": "code",
   "execution_count": 10,
   "id": "0d6711b6",
   "metadata": {},
   "outputs": [
    {
     "name": "stdout",
     "output_type": "stream",
     "text": [
      "44\n"
     ]
    }
   ],
   "source": [
    "# list program in python\n",
    "a = [1,22,33,44,55,66,7,8,9,0]\n",
    "print(a[3])\n"
   ]
  },
  {
   "cell_type": "code",
   "execution_count": 11,
   "id": "1c637a65",
   "metadata": {},
   "outputs": [
    {
     "name": "stdout",
     "output_type": "stream",
     "text": [
      "ketan\n"
     ]
    }
   ],
   "source": [
    "# list program in python\n",
    "names = ['Riya' , 'ketan' , 'Vasu' , 'urvil']\n",
    "print(names[1])"
   ]
  },
  {
   "cell_type": "code",
   "execution_count": 12,
   "id": "cd19a0a5",
   "metadata": {},
   "outputs": [
    {
     "name": "stdout",
     "output_type": "stream",
     "text": [
      "44\n"
     ]
    }
   ],
   "source": [
    "# list program in python\n",
    "a = [1,22,33,44,55,66,7,8,9,0]\n",
    "print(a[3])\n"
   ]
  },
  {
   "cell_type": "code",
   "execution_count": 13,
   "id": "373c131c",
   "metadata": {},
   "outputs": [
    {
     "name": "stdout",
     "output_type": "stream",
     "text": [
      "[1, 2, 4]\n"
     ]
    }
   ],
   "source": [
    "# list program in python\n",
    "a = [1,2,3]\n",
    "a[2] = 4\n",
    "print(a)"
   ]
  },
  {
   "cell_type": "code",
   "execution_count": 14,
   "id": "f9d1b16f",
   "metadata": {},
   "outputs": [
    {
     "name": "stdout",
     "output_type": "stream",
     "text": [
      "t[2] =  programs\n"
     ]
    }
   ],
   "source": [
    "# list program in python\n",
    "items = [5,\"programs\",1+2j]\n",
    "print(\"t[2] = \" , items[1])\n"
   ]
  },
  {
   "cell_type": "code",
   "execution_count": 15,
   "id": "10950a07",
   "metadata": {},
   "outputs": [
    {
     "name": "stdout",
     "output_type": "stream",
     "text": [
      "This is just a string .This is to test a string if it is working or not . And the test just worked .\n"
     ]
    }
   ],
   "source": [
    "# string concatination in python\n",
    "String_1 = \"This is just a string .\"\n",
    "String_2 = \"This is to test a string if it is working or not . \"\n",
    "String_3 = \"And the test just worked .\"\n",
    "print(String_1 + String_2 + String_3)"
   ]
  },
  {
   "cell_type": "code",
   "execution_count": 16,
   "id": "4ea1dbb9",
   "metadata": {},
   "outputs": [
    {
     "name": "stdout",
     "output_type": "stream",
     "text": [
      "a = {'three', 'four', 'one', 'two'}\n"
     ]
    }
   ],
   "source": [
    "# set program in python\n",
    "set = {\"one\",\"two\",\"three\",\"four\"}\n",
    "print(\"a =\" , set)"
   ]
  },
  {
   "cell_type": "code",
   "execution_count": 17,
   "id": "0ebb5208",
   "metadata": {},
   "outputs": [
    {
     "name": "stdout",
     "output_type": "stream",
     "text": [
      "two\n"
     ]
    }
   ],
   "source": [
    "# dictionary program in python\n",
    "dict = {0:'one',1:'two',2:'three'}\n",
    "print(dict[1])\n"
   ]
  },
  {
   "cell_type": "code",
   "execution_count": 18,
   "id": "c16700fb",
   "metadata": {},
   "outputs": [
    {
     "name": "stdout",
     "output_type": "stream",
     "text": [
      "5.0\n"
     ]
    }
   ],
   "source": [
    "# type conversion in python\n",
    "a = 5\n",
    "print(float(a))"
   ]
  },
  {
   "cell_type": "code",
   "execution_count": 20,
   "id": "4bd1f13b",
   "metadata": {},
   "outputs": [
    {
     "name": "stdout",
     "output_type": "stream",
     "text": [
      "12\n",
      "hello\n"
     ]
    }
   ],
   "source": [
    "# dynamic typing\n",
    "item = 12\n",
    "print(item)\n",
    "item = \"hello\"\n",
    "print(item)"
   ]
  },
  {
   "cell_type": "code",
   "execution_count": 21,
   "id": "0c5954bd",
   "metadata": {},
   "outputs": [
    {
     "name": "stdout",
     "output_type": "stream",
     "text": [
      "20\n"
     ]
    }
   ],
   "source": [
    "#buit-in function\n",
    "NUMBER = -20\n",
    "ABSOULUTE_NUMBER = abs(NUMBER)\n",
    "print (ABSOULUTE_NUMBER)\n"
   ]
  },
  {
   "cell_type": "code",
   "execution_count": 22,
   "id": "500437b5",
   "metadata": {},
   "outputs": [
    {
     "name": "stdout",
     "output_type": "stream",
     "text": [
      "29.666\n"
     ]
    }
   ],
   "source": [
    "number = -29.666\n",
    "absolute_number = abs(number)\n",
    "print (absolute_number)"
   ]
  },
  {
   "cell_type": "code",
   "execution_count": 23,
   "id": "a0b1092e",
   "metadata": {},
   "outputs": [
    {
     "name": "stdout",
     "output_type": "stream",
     "text": [
      "3\n"
     ]
    }
   ],
   "source": [
    "# Len function\n",
    "languages = ['python', 'java', 'xml']\n",
    "print(len(languages))"
   ]
  },
  {
   "cell_type": "code",
   "execution_count": 24,
   "id": "2cd97341",
   "metadata": {},
   "outputs": [
    {
     "name": "stdout",
     "output_type": "stream",
     "text": [
      "Length of the list =  3\n"
     ]
    }
   ],
   "source": [
    "# Len() function with tuples, lists and range\n",
    "list_1 = [1,2,3]\n",
    "print('Length of the list = ', len(list_1))\n"
   ]
  },
  {
   "cell_type": "code",
   "execution_count": 25,
   "id": "e594de10",
   "metadata": {},
   "outputs": [
    {
     "name": "stdout",
     "output_type": "stream",
     "text": [
      "Length of the list =  3\n",
      "Length of the tuple =  3\n",
      "Length of the range =  9\n"
     ]
    }
   ],
   "source": [
    "# Len() funbction with tuples, lists and range\n",
    "list_1= [1,2,3]\n",
    "print('Length of the list = ',len (list_1))\n",
    "tuple_1 = (1,2,3)\n",
    "print('Length of the tuple = ', len(tuple_1))\n",
    "range_1 = range (1,10)\n",
    "print('Length of the range = ',len (range_1))\n"
   ]
  },
  {
   "cell_type": "code",
   "execution_count": 26,
   "id": "34bb115b",
   "metadata": {},
   "outputs": [
    {
     "name": "stdout",
     "output_type": "stream",
     "text": [
      "Length of testString =  0\n"
     ]
    }
   ],
   "source": [
    "# Len() function with strings and bytes\n",
    "testString= ''\n",
    "print('Length of testString = ', len(testString))"
   ]
  },
  {
   "cell_type": "code",
   "execution_count": 27,
   "id": "206e9d71",
   "metadata": {},
   "outputs": [
    {
     "name": "stdout",
     "output_type": "stream",
     "text": [
      "Length of testbyte =  6\n"
     ]
    }
   ],
   "source": [
    "# Len() function with strings and bytes\n",
    "testByte = b'python'\n",
    "print('Length of testbyte = ', len(testByte))"
   ]
  },
  {
   "cell_type": "code",
   "execution_count": 29,
   "id": "8d6cd4d0",
   "metadata": {},
   "outputs": [
    {
     "name": "stdout",
     "output_type": "stream",
     "text": [
      "Length of the bytes in testlist =  b'\\x01\\x02\\x03' 3\n"
     ]
    }
   ],
   "source": [
    "testlist = [1,2,3]\n",
    "testbyte= bytes(testlist)\n",
    "print('Length of the bytes in testlist = ' , testbyte, len(testbyte))"
   ]
  },
  {
   "cell_type": "code",
   "execution_count": 30,
   "id": "65edba59",
   "metadata": {},
   "outputs": [
    {
     "name": "stdout",
     "output_type": "stream",
     "text": [
      "Length of the testset =  3\n",
      "Length of the testdict =  2\n"
     ]
    }
   ],
   "source": [
    "# Len() function with dictionaries adn sets\n",
    "testset= {1,2,3}\n",
    "print('Length of the testset = ', len(testset))\n",
    "testdict = {1: 'one', 2: 'two'}\n",
    "print('Length of the testdict = ',len (testdict))"
   ]
  },
  {
   "cell_type": "code",
   "execution_count": 31,
   "id": "381d817f",
   "metadata": {},
   "outputs": [
    {
     "name": "stdout",
     "output_type": "stream",
     "text": [
      "Minimum number among the numbers =  -4\n"
     ]
    }
   ],
   "source": [
    "# using a min() function\n",
    "numbers= [9,34,11, -4,27]\n",
    "print('Minimum number among the numbers = ',min (numbers))"
   ]
  },
  {
   "cell_type": "code",
   "execution_count": 32,
   "id": "40add4f5",
   "metadata": {},
   "outputs": [
    {
     "name": "stdout",
     "output_type": "stream",
     "text": [
      "51\n",
      "50\n",
      "100\n"
     ]
    }
   ],
   "source": [
    "# rounding the numbers using round()\n",
    "a = 51.42\n",
    "b = 49.66\n",
    "c = 99.77\n",
    "print(round(a))\n",
    "print(round(b))\n",
    "print (round(c))"
   ]
  },
  {
   "cell_type": "code",
   "execution_count": 33,
   "id": "a3a74867",
   "metadata": {},
   "outputs": [
    {
     "name": "stdout",
     "output_type": "stream",
     "text": [
      "2.667\n",
      "2.67\n",
      "2.7\n"
     ]
    }
   ],
   "source": [
    "# rounding the numbers to specified decimal place\n",
    "print (round (2.6666,3))\n",
    "print (round (2.6666,2))\n",
    "print (round (2.6666,1))\n"
   ]
  },
  {
   "cell_type": "code",
   "execution_count": 34,
   "id": "69495bd3",
   "metadata": {},
   "outputs": [
    {
     "name": "stdout",
     "output_type": "stream",
     "text": [
      "True\n",
      "False\n"
     ]
    }
   ],
   "source": [
    "# using isalnum() with strings\n",
    "name1=\"jake99\"\n",
    "print(name1.isalnum())\n",
    "name2=\"jake@99\"\n",
    "print(name2.isalnum())"
   ]
  },
  {
   "cell_type": "code",
   "execution_count": 35,
   "id": "4804ebe0",
   "metadata": {},
   "outputs": [
    {
     "name": "stdout",
     "output_type": "stream",
     "text": [
      "5\n",
      "program\n",
      "232\n"
     ]
    }
   ],
   "source": [
    "a = (5, 'program', 232 , 'python')\n",
    "print(a[0])\n",
    "print(a[1])\n",
    "print(a[2])\n"
   ]
  },
  {
   "cell_type": "code",
   "execution_count": 36,
   "id": "b5978d2f",
   "metadata": {},
   "outputs": [
    {
     "name": "stdout",
     "output_type": "stream",
     "text": [
      "{'quadre', 'trois', 'un', 'dues'}\n",
      "Length of set a =  4\n"
     ]
    }
   ],
   "source": [
    "# python set program\n",
    "a = {\"un\", \"dues\", \"trois\", \"quadre\"}\n",
    "print(a)\n",
    "print('Length of set a = ', len(a))"
   ]
  },
  {
   "cell_type": "code",
   "execution_count": 37,
   "id": "d9f17b15",
   "metadata": {},
   "outputs": [
    {
     "name": "stdout",
     "output_type": "stream",
     "text": [
      "three\n"
     ]
    }
   ],
   "source": [
    "dict_1 = {0: 'zero', 2: 'two', 3: 'three'}\n",
    "print(dict_1[3])"
   ]
  },
  {
   "cell_type": "code",
   "execution_count": 38,
   "id": "7f30d6fc",
   "metadata": {},
   "outputs": [
    {
     "name": "stdout",
     "output_type": "stream",
     "text": [
      "30.0\n"
     ]
    }
   ],
   "source": [
    "#type converion in python\n",
    "a = 10\n",
    "b = 20\n",
    "print (float(a + b))\n"
   ]
  },
  {
   "cell_type": "code",
   "execution_count": null,
   "id": "f12789f5",
   "metadata": {},
   "outputs": [],
   "source": []
  }
 ],
 "metadata": {
  "kernelspec": {
   "display_name": "Python 3 (ipykernel)",
   "language": "python",
   "name": "python3"
  },
  "language_info": {
   "codemirror_mode": {
    "name": "ipython",
    "version": 3
   },
   "file_extension": ".py",
   "mimetype": "text/x-python",
   "name": "python",
   "nbconvert_exporter": "python",
   "pygments_lexer": "ipython3",
   "version": "3.9.12"
  }
 },
 "nbformat": 4,
 "nbformat_minor": 5
}
