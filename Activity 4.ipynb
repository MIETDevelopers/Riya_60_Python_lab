{
 "cells": [
  {
   "cell_type": "markdown",
   "id": "faaa07b6",
   "metadata": {},
   "source": [
    "# Linear search"
   ]
  },
  {
   "cell_type": "code",
   "execution_count": 12,
   "id": "4e616b96",
   "metadata": {},
   "outputs": [
    {
     "name": "stdout",
     "output_type": "stream",
     "text": [
      "Element found at index:  4\n"
     ]
    }
   ],
   "source": [
    " def linear_Search(list1, n, key):  \n",
    "  \n",
    "    # Searching list1 sequentially  \n",
    "    for i in range(0, n):  \n",
    "        if (list1[i] == key):  \n",
    "            return i  \n",
    "    return -1  \n",
    "  \n",
    "  \n",
    "list1 = [1 ,3, 5, 4, 7, 9]  \n",
    "key = 7  \n",
    "  \n",
    "n = len(list1)  \n",
    "res = linear_Search(list1, n, key)  \n",
    "if(res == -1):  \n",
    "    print(\"Element not found\")  \n",
    "else:  \n",
    "    print(\"Element found at index: \", res)"
   ]
  },
  {
   "cell_type": "markdown",
   "id": "4d3b7b39",
   "metadata": {},
   "source": [
    "# Binary search"
   ]
  },
  {
   "cell_type": "markdown",
   "id": "a5f7c020",
   "metadata": {},
   "source": [
    "# 1. Iterative binary search"
   ]
  },
  {
   "cell_type": "code",
   "execution_count": 14,
   "id": "019d581d",
   "metadata": {},
   "outputs": [
    {
     "name": "stdout",
     "output_type": "stream",
     "text": [
      "Element is present at index 4\n"
     ]
    }
   ],
   "source": [
    "def binary_search(list1, n):  \n",
    "    low = 0  \n",
    "    high = len(list1) - 1  \n",
    "    mid = 0  \n",
    "  \n",
    "    while low <= high:  \n",
    "       \n",
    "        mid = (high + low) // 2  \n",
    "   \n",
    "        if list1[mid] < n:  \n",
    "            low = mid + 1  \n",
    "   \n",
    "        elif list1[mid] > n:  \n",
    "            high = mid - 1  \n",
    "\n",
    "        else:  \n",
    "            return mid  \n",
    "        \n",
    "    return -1  \n",
    "  \n",
    "  \n",
    "# Initial list1  \n",
    "list1 = [12, 24, 32, 39, 45, 50, 54]  \n",
    "n = 45  \n",
    "  \n",
    "# Function call   \n",
    "result = binary_search(list1, n)  \n",
    "  \n",
    "if result != -1:  \n",
    "    print(\"Element is present at index\", str(result))  \n",
    "else:  \n",
    "    print(\"Element is not present in list1\")  "
   ]
  },
  {
   "cell_type": "markdown",
   "id": "beb65870",
   "metadata": {},
   "source": [
    "# 2. Recursive binary search"
   ]
  },
  {
   "cell_type": "code",
   "execution_count": 13,
   "id": "d5cb099c",
   "metadata": {},
   "outputs": [
    {
     "name": "stdout",
     "output_type": "stream",
     "text": [
      "Element is present at index 2\n"
     ]
    }
   ],
   "source": [
    " def binary_search(list1, low, high, n):   \n",
    "   \n",
    "   if low <= high:  \n",
    "  \n",
    "      mid = (low + high) // 2  \n",
    "  \n",
    "      \n",
    "      if list1[mid] == n:   \n",
    "        return mid   \n",
    "    \n",
    "      elif list1[mid] > n:   \n",
    "         return binary_search(list1, low, mid - 1, n)   \n",
    "\n",
    "      else:   \n",
    "         return binary_search(list1, mid + 1, high, n)   \n",
    "  \n",
    "   else:   \n",
    "\n",
    "      return -1  \n",
    "   \n",
    "list1 = [12, 24, 32, 39, 45, 50, 54]  \n",
    "n = 32  \n",
    "  \n",
    "# Function call   \n",
    "res = binary_search(list1, 0, len(list1)-1, n)   \n",
    "  \n",
    "if res != -1:   \n",
    "   print(\"Element is present at index\", str(res))  \n",
    "else:   \n",
    "   print(\"Element is not present in list1\")  "
   ]
  },
  {
   "cell_type": "code",
   "execution_count": null,
   "id": "7f4da044",
   "metadata": {},
   "outputs": [],
   "source": []
  }
 ],
 "metadata": {
  "kernelspec": {
   "display_name": "Python 3 (ipykernel)",
   "language": "python",
   "name": "python3"
  },
  "language_info": {
   "codemirror_mode": {
    "name": "ipython",
    "version": 3
   },
   "file_extension": ".py",
   "mimetype": "text/x-python",
   "name": "python",
   "nbconvert_exporter": "python",
   "pygments_lexer": "ipython3",
   "version": "3.9.12"
  }
 },
 "nbformat": 4,
 "nbformat_minor": 5
}
