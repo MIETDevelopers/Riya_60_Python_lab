{
 "cells": [
  {
   "cell_type": "markdown",
   "id": "7419263b",
   "metadata": {},
   "source": [
    "# Write a program to illustrate iteration over the list and dictionary."
   ]
  },
  {
   "cell_type": "markdown",
   "id": "bf370905",
   "metadata": {},
   "source": [
    "# 1. LIST"
   ]
  },
  {
   "cell_type": "markdown",
   "id": "70499f94",
   "metadata": {},
   "source": [
    "(a) Using For loop.\n",
    "\n",
    "(b) For loop and range(). \n",
    "\n",
    "(c) Using while loop.\n",
    "\n",
    "(d) Using list comprehension (Possibly the most concrete way)"
   ]
  },
  {
   "cell_type": "markdown",
   "id": "7408613f",
   "metadata": {},
   "source": [
    "# (a) Using For loop"
   ]
  },
  {
   "cell_type": "code",
   "execution_count": 1,
   "id": "0eb8eb62",
   "metadata": {},
   "outputs": [
    {
     "name": "stdout",
     "output_type": "stream",
     "text": [
      "1\n",
      "2\n",
      "3\n",
      "4\n",
      "5\n"
     ]
    }
   ],
   "source": [
    "list = [1,2,3,4,5]\n",
    "# Using for loop\n",
    "for x in list:\n",
    " print(x)"
   ]
  },
  {
   "cell_type": "markdown",
   "id": "d1073157",
   "metadata": {},
   "source": [
    "# (b) For loop and range().\n"
   ]
  },
  {
   "cell_type": "code",
   "execution_count": 2,
   "id": "c8b42d48",
   "metadata": {},
   "outputs": [
    {
     "name": "stdout",
     "output_type": "stream",
     "text": [
      "apple\n",
      "banana\n",
      "cherry\n",
      "orange\n"
     ]
    }
   ],
   "source": [
    "list = [\"apple\", \"banana\", \"cherry\", \"orange\"]\n",
    "for x in range(len(list)):\n",
    " print(list[x])\n"
   ]
  },
  {
   "cell_type": "markdown",
   "id": "eeca99a8",
   "metadata": {},
   "source": [
    "# (c) Using while loop"
   ]
  },
  {
   "cell_type": "code",
   "execution_count": 4,
   "id": "48cfed18",
   "metadata": {},
   "outputs": [
    {
     "name": "stdout",
     "output_type": "stream",
     "text": [
      "1\n",
      "2\n",
      "3\n",
      "4\n",
      "5\n"
     ]
    }
   ],
   "source": [
    "list = [1,2,3,4,5]\n",
    "i = 0\n",
    "while i < len(list):\n",
    " print(list[i])\n",
    " i = i + 1"
   ]
  },
  {
   "cell_type": "markdown",
   "id": "712a3262",
   "metadata": {},
   "source": [
    "# (d) Using list comprehension"
   ]
  },
  {
   "cell_type": "code",
   "execution_count": 5,
   "id": "e8903b24",
   "metadata": {},
   "outputs": [
    {
     "name": "stdout",
     "output_type": "stream",
     "text": [
      "apple\n",
      "banana\n",
      "cherry\n",
      "orange\n"
     ]
    },
    {
     "data": {
      "text/plain": [
       "[None, None, None, None]"
      ]
     },
     "execution_count": 5,
     "metadata": {},
     "output_type": "execute_result"
    }
   ],
   "source": [
    "list = [\"apple\", \"banana\", \"cherry\", \"orange\"]\n",
    "[print(i) for i in list]"
   ]
  },
  {
   "cell_type": "markdown",
   "id": "3f93da42",
   "metadata": {},
   "source": [
    "# 2. DICTIONARY"
   ]
  },
  {
   "cell_type": "markdown",
   "id": "93a2e83c",
   "metadata": {},
   "source": [
    "a) Access key using the build .keys()\n",
    "\n",
    "(b) Access key without using a key()\n",
    "\n",
    "(c) Iterate through all values using .values()\n",
    "\n",
    "(d) Iterate through all key, and value pairs using items()\n",
    "\n",
    "(e) Access both key and value without using items()\n",
    "\n",
    "(f) Print items in Key-Value in pair"
   ]
  },
  {
   "cell_type": "markdown",
   "id": "481494d9",
   "metadata": {},
   "source": [
    "# (a) Access key using the build .keys()"
   ]
  },
  {
   "cell_type": "code",
   "execution_count": 6,
   "id": "33c60107",
   "metadata": {},
   "outputs": [
    {
     "name": "stdout",
     "output_type": "stream",
     "text": [
      "dict_keys(['Riya', 'Ketan', 'Urvil'])\n"
     ]
    }
   ],
   "source": [
    "NameAndID = {'Riya': 'abc', 'Ketan': 'def', 'Urvil': 'ijk'}\n",
    "keys= NameAndID.keys()\n",
    "print(keys)\n"
   ]
  },
  {
   "cell_type": "markdown",
   "id": "0d8ed1b4",
   "metadata": {},
   "source": [
    "# (b) Access key without using a key()"
   ]
  },
  {
   "cell_type": "code",
   "execution_count": 7,
   "id": "f017db2a",
   "metadata": {},
   "outputs": [
    {
     "name": "stdout",
     "output_type": "stream",
     "text": [
      "List Of given Name:\n",
      "\n",
      "Riya\n",
      "Ketan\n",
      "Urvil\n"
     ]
    }
   ],
   "source": [
    "NameAndID = {'Riya': 'abc', 'Ketan': 'def', 'Urvil': 'ijk'}\n",
    "print('List Of given Name:\\n')\n",
    "for Name in NameAndID:\n",
    " print(Name)\n"
   ]
  },
  {
   "cell_type": "markdown",
   "id": "9e625a56",
   "metadata": {},
   "source": [
    "# (c) Iterate through all values using .values()"
   ]
  },
  {
   "cell_type": "code",
   "execution_count": 8,
   "id": "9522006a",
   "metadata": {},
   "outputs": [
    {
     "name": "stdout",
     "output_type": "stream",
     "text": [
      "List Of given ID:\n",
      "\n",
      "abc\n",
      "def\n",
      "ijk\n"
     ]
    }
   ],
   "source": [
    "NameAndID = {'Riya': 'abc', 'Ketan': 'def', 'Urvil': 'ijk'}\n",
    "print('List Of given ID:\\n')\n",
    "for ID in NameAndID.values():\n",
    " print(ID)\n",
    "\n"
   ]
  },
  {
   "cell_type": "markdown",
   "id": "358d4397",
   "metadata": {},
   "source": [
    "# (d) Iterate through all key, and value pairs using\n",
    "items\n"
   ]
  },
  {
   "cell_type": "code",
   "execution_count": 9,
   "id": "fbfb07ab",
   "metadata": {},
   "outputs": [
    {
     "name": "stdout",
     "output_type": "stream",
     "text": [
      "List Of given Name and their ID:\n",
      "\n",
      "Riya : abc\n",
      "Ketan : def\n",
      "Urvil : ijk\n"
     ]
    }
   ],
   "source": [
    "NameAndID = {'Riya': 'abc', 'Ketan': 'def', 'Urvil': 'ijk'}\n",
    "print('List Of given Name and their ID:\\n')\n",
    "for Name, ID in NameAndID.items():\n",
    " print(Name,\":\", ID)"
   ]
  },
  {
   "cell_type": "markdown",
   "id": "ec5114e6",
   "metadata": {},
   "source": [
    "# (e) Access both key and value without using items()\n"
   ]
  },
  {
   "cell_type": "code",
   "execution_count": 10,
   "id": "7b0f52e9",
   "metadata": {},
   "outputs": [
    {
     "name": "stdout",
     "output_type": "stream",
     "text": [
      "Riya -> abc\n",
      "Ketan -> def\n",
      "Urvil -> ijk\n"
     ]
    }
   ],
   "source": [
    "NameAndID = {'Riya': 'abc', 'Ketan': 'def', 'Urvil': 'ijk'}\n",
    "for i in NameAndID:\n",
    " print(i,'->', NameAndID[i] )"
   ]
  },
  {
   "cell_type": "markdown",
   "id": "f9cd2751",
   "metadata": {},
   "source": [
    "# (f) Print items in Key-Value in pair"
   ]
  },
  {
   "cell_type": "code",
   "execution_count": 11,
   "id": "721d0998",
   "metadata": {},
   "outputs": [
    {
     "name": "stdout",
     "output_type": "stream",
     "text": [
      "dict_items([('Riya', 'abc'), ('Ketan', 'def'), ('Urvil', 'ijk')])\n"
     ]
    }
   ],
   "source": [
    "NameAndID = {'Riya': 'abc', 'Ketan': 'def', 'Urvil': 'ijk'}\n",
    "keys= NameAndID.items()\n",
    "print(keys)"
   ]
  },
  {
   "cell_type": "code",
   "execution_count": null,
   "id": "4560a80f",
   "metadata": {},
   "outputs": [],
   "source": []
  }
 ],
 "metadata": {
  "kernelspec": {
   "display_name": "Python 3 (ipykernel)",
   "language": "python",
   "name": "python3"
  },
  "language_info": {
   "codemirror_mode": {
    "name": "ipython",
    "version": 3
   },
   "file_extension": ".py",
   "mimetype": "text/x-python",
   "name": "python",
   "nbconvert_exporter": "python",
   "pygments_lexer": "ipython3",
   "version": "3.9.12"
  }
 },
 "nbformat": 4,
 "nbformat_minor": 5
}
