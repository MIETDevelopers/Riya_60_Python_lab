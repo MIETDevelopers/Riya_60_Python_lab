{
 "cells": [
  {
   "cell_type": "markdown",
   "id": "21fe4d61",
   "metadata": {},
   "source": [
    "# Count the number of alphabets in the given string"
   ]
  },
  {
   "cell_type": "code",
   "execution_count": 3,
   "id": "7f5a150b",
   "metadata": {},
   "outputs": [
    {
     "name": "stdout",
     "output_type": "stream",
     "text": [
      "The original string is : the world is a beautiful place 100 percent\n",
      "Count of Alphabets :32\n"
     ]
    }
   ],
   "source": [
    "# initializing string\n",
    "test_str = \"the world is a beautiful place 100 percent\"\n",
    "print(\"The original string is : \" + str(test_str))\n",
    "# isalpha() to computation of Alphabets\n",
    "res = len([l for l in test_str if l.isalpha()])\n",
    "# printing result\n",
    "print(\"Count of Alphabets :\"+ str(res))\n"
   ]
  },
  {
   "cell_type": "code",
   "execution_count": 5,
   "id": "48b6473d",
   "metadata": {},
   "outputs": [
    {
     "name": "stdout",
     "output_type": "stream",
     "text": [
      "The original string is : Hello MY Name is BASEER FATIMA born on 10/09/2001\n",
      "Count of Alphabets : 31\n"
     ]
    }
   ],
   "source": [
    "import string\n",
    " # initializing string\n",
    "test_str = \"Hello MY Name is BASEER FATIMA born on 10/09/2001\"\n",
    "print(\"The original string is : \" + str(test_str))\n",
    "res = len([ele for ele in test_str if ele in string.ascii_uppercase or ele in string.ascii_lowercase]) \n",
    "print(\"Count of Alphabets : \" + str(res))"
   ]
  },
  {
   "cell_type": "markdown",
   "id": "7ebe30b2",
   "metadata": {},
   "source": [
    "# To extract characters in the given, range from the given string."
   ]
  },
  {
   "cell_type": "code",
   "execution_count": 7,
   "id": "d1643913",
   "metadata": {},
   "outputs": [
    {
     "name": "stdout",
     "output_type": "stream",
     "text": [
      "The original list is : ['geeksforgeeks', 'is', 'best', 'for', 'geeks']\n",
      "Range characters : sbestforgeeks\n"
     ]
    }
   ],
   "source": [
    "test_list = [\"geeksforgeeks\", \"is\", \"best\", \"for\", \"geeks\"]\n",
    "print(\"The original list is : \" + str(test_list))\n",
    "strt, end = 14, 30\n",
    "res = ''.join([s for s in test_list])[strt : end]\n",
    "# printing result\n",
    "print(\"Range characters : \" + str(res))"
   ]
  },
  {
   "cell_type": "markdown",
   "id": "3e43c3e7",
   "metadata": {},
   "source": [
    "#  Check if the string is alphanumeric or not."
   ]
  },
  {
   "cell_type": "code",
   "execution_count": 8,
   "id": "e2bd4dcc",
   "metadata": {},
   "outputs": [
    {
     "name": "stdout",
     "output_type": "stream",
     "text": [
      "abc 123 is alphanumeric? False\n"
     ]
    }
   ],
   "source": [
    "string = \"abc 123\"\n",
    "print(string, \"is alphanumeric?\", string.isalnum())"
   ]
  },
  {
   "cell_type": "code",
   "execution_count": 9,
   "id": "fffb1d33",
   "metadata": {},
   "outputs": [
    {
     "name": "stdout",
     "output_type": "stream",
     "text": [
      "abc_123 is alphanumeric? False\n"
     ]
    }
   ],
   "source": [
    "string = \"abc_123\"\n",
    "print(string, \"is alphanumeric?\", string.isalnum())"
   ]
  },
  {
   "cell_type": "code",
   "execution_count": 10,
   "id": "4f641a45",
   "metadata": {},
   "outputs": [
    {
     "name": "stdout",
     "output_type": "stream",
     "text": [
      "Password is alphanumeric.\n"
     ]
    }
   ],
   "source": [
    "password = \"user123456\"\n",
    "if password.isalnum():\n",
    " print(\"Password is alphanumeric.\")\n",
    "else:\n",
    " print(\"Password is not alphanumeric.\")"
   ]
  },
  {
   "cell_type": "code",
   "execution_count": null,
   "id": "0aaee697",
   "metadata": {},
   "outputs": [],
   "source": []
  }
 ],
 "metadata": {
  "kernelspec": {
   "display_name": "Python 3 (ipykernel)",
   "language": "python",
   "name": "python3"
  },
  "language_info": {
   "codemirror_mode": {
    "name": "ipython",
    "version": 3
   },
   "file_extension": ".py",
   "mimetype": "text/x-python",
   "name": "python",
   "nbconvert_exporter": "python",
   "pygments_lexer": "ipython3",
   "version": "3.9.12"
  }
 },
 "nbformat": 4,
 "nbformat_minor": 5
}
